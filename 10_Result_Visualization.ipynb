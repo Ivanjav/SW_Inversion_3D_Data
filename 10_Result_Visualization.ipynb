{
 "cells": [
  {
   "cell_type": "markdown",
   "metadata": {},
   "source": [
    "## Import packages"
   ]
  },
  {
   "cell_type": "code",
   "execution_count": null,
   "metadata": {},
   "outputs": [],
   "source": [
    "from IPython.display import display\n",
    "import pandas as pd\n",
    "import numpy as np\n",
    "import xarray as xr\n",
    "import matplotlib.pyplot as plt\n",
    "import seaborn as sns\n",
    "import masw_functions as mf\n",
    "import pickle\n",
    "import os\n",
    "import subprocess\n",
    "%matplotlib inline"
   ]
  },
  {
   "cell_type": "markdown",
   "metadata": {},
   "source": [
    "## Read data\n",
    "\n",
    "Read the file **dispersion_1000.pkl** with the list of dispersion analysis by azimuth of shot **1000**"
   ]
  },
  {
   "cell_type": "code",
   "execution_count": null,
   "metadata": {},
   "outputs": [
    {
     "name": "stdout",
     "output_type": "stream",
     "text": [
      "dispersion_1000.pkl exists.\n",
      "picking_1000.pkl exists.\n"
     ]
    }
   ],
   "source": [
    "filenames=[\"vs2d_1000.pkl\"]\n",
    "for filename in filenames:\n",
    "    if os.path.isfile(filename):\n",
    "        print(filename+\" exists.\")\n",
    "    else: \n",
    "        url = 'https://filedn.com/lEzjnrJwSG47nSDwzIitUuf'\n",
    "        folder='/Data/swi_python/'\n",
    "        command = ['wget', url+folder+filename]\n",
    "        subprocess.run(command)\n",
    "\n",
    "with open(filenames[0], 'rb') as f:\n",
    "    vs2d = pickle.load(f)"
   ]
  }
 ],
 "metadata": {
  "language_info": {
   "name": "python"
  }
 },
 "nbformat": 4,
 "nbformat_minor": 2
}
